{
 "cells": [
  {
   "cell_type": "markdown",
   "id": "f80eb37f-57fc-44e6-9770-19e0ff3c37a2",
   "metadata": {},
   "source": [
    "### Multipal String"
   ]
  },
  {
   "cell_type": "code",
   "execution_count": 3,
   "id": "a3e3462a-fc4f-4135-b6ad-276a90776007",
   "metadata": {},
   "outputs": [
    {
     "name": "stdout",
     "output_type": "stream",
     "text": [
      "hey its me raihan nibir what's about you?\n",
      "im a cse student \n"
     ]
    }
   ],
   "source": [
    "massage =\"\"\"hey its me raihan nibir what's about you?\n",
    "im a cse student \"\"\"\n",
    "print(massage)"
   ]
  },
  {
   "cell_type": "markdown",
   "id": "12eb00cd-1313-4e13-a28b-b7b0877e1f7f",
   "metadata": {},
   "source": [
    "### Indexing And String"
   ]
  },
  {
   "cell_type": "code",
   "execution_count": 12,
   "id": "398aa1e0-e00a-4703-912e-958118e58029",
   "metadata": {},
   "outputs": [
    {
     "name": "stdout",
     "output_type": "stream",
     "text": [
      "w\n"
     ]
    }
   ],
   "source": [
    "string = \"hello world\"\n",
    "print(string[6])"
   ]
  },
  {
   "cell_type": "markdown",
   "id": "8c912049-0f65-4427-bd5e-1c3bff5159f0",
   "metadata": {},
   "source": [
    "### ND Array & Attributes"
   ]
  },
  {
   "cell_type": "code",
   "execution_count": 9,
   "id": "699febdf-783d-4f0e-a5a4-b834d7270010",
   "metadata": {},
   "outputs": [
    {
     "name": "stdout",
     "output_type": "stream",
     "text": [
      "1\n",
      "(5,)\n",
      "int64\n",
      "5\n"
     ]
    }
   ],
   "source": [
    "import numpy as np\n",
    "array = np.array([1, 2, 3, 4, 5])\n",
    "print(array.ndim)\n",
    "\n",
    "#Shape\n",
    "print(array.shape)\n",
    "\n",
    "# Data Type\n",
    "print(array.dtype)\n",
    "\n",
    "# Size\n",
    "print(array.size)\n",
    "\n"
   ]
  },
  {
   "cell_type": "markdown",
   "id": "0c74d6b2-1164-401b-abc6-0506f028f06b",
   "metadata": {},
   "source": [
    "### Data Type"
   ]
  },
  {
   "cell_type": "code",
   "execution_count": 12,
   "id": "15143bfc-4ece-4df5-a9bb-441762b6df0b",
   "metadata": {},
   "outputs": [
    {
     "name": "stdout",
     "output_type": "stream",
     "text": [
      "int64\n",
      "<U21\n"
     ]
    }
   ],
   "source": [
    "#upcasting to float \n",
    "arr = np.array([1,2,3,4,5])\n",
    "print(arr.dtype)\n",
    "\n",
    "# upcasting to string\n",
    "arr = np.array([1,2,3,4,5,'hello'])\n",
    "print(arr.dtype)"
   ]
  },
  {
   "cell_type": "markdown",
   "id": "5a364ebf-e7d3-4784-9cc8-429a764b110c",
   "metadata": {},
   "source": [
    "### ND Array Creation From Existing Data"
   ]
  },
  {
   "cell_type": "code",
   "execution_count": 3,
   "id": "c0a57332-9096-492b-af5b-4c7f298262e8",
   "metadata": {},
   "outputs": [
    {
     "name": "stdout",
     "output_type": "stream",
     "text": [
      "[[1 2 3]\n",
      " [4 5 6]]\n",
      "<class 'numpy.ndarray'>\n",
      "int64\n",
      "(2, 3)\n",
      "2\n"
     ]
    }
   ],
   "source": [
    "import numpy as np\n",
    "\n",
    "matrix = [\n",
    "    [1, 2, 3],\n",
    "    [4, 5, 6]\n",
    "]\n",
    "\n",
    "arr = np.array(matrix) \n",
    "\n",
    "print(arr)\n",
    "print(type(arr))\n",
    "print(arr.dtype)\n",
    "print(arr.shape)\n",
    "print(arr.ndim)\n"
   ]
  },
  {
   "cell_type": "code",
   "execution_count": null,
   "id": "8441129d-8c47-4da8-af56-fea9df091eba",
   "metadata": {},
   "outputs": [],
   "source": [
    "import numpy as np\n",
    "lst = [ 10,20,30,40,40.5]\n",
    "arr =np.array(lst, dtype=np.int32)\n",
    "\n",
    "print(arr)\n",
    "print(type(arr))\n",
    "print(arr.dtype)"
   ]
  },
  {
   "cell_type": "markdown",
   "id": "029b7bc6-d13d-4935-94c0-85c50d552bef",
   "metadata": {},
   "source": [
    "#### Creating NDarray From Scratch"
   ]
  },
  {
   "cell_type": "code",
   "execution_count": 22,
   "id": "d00c83cc-df6a-4ea4-8442-1d3f9c8df59b",
   "metadata": {},
   "outputs": [
    {
     "name": "stdout",
     "output_type": "stream",
     "text": [
      "[[0 0 0]\n",
      " [0 0 0]]\n",
      "(2, 3)\n",
      "[1 1]\n",
      "(2,)\n",
      "[[ -64    2   44]\n",
      " [-110  109    2]\n",
      " [   0    0    0]\n",
      " [   0    0    0]]\n",
      "<class 'numpy.ndarray'>\n",
      "(4, 3)\n",
      "int8\n",
      "2\n",
      "12\n"
     ]
    }
   ],
   "source": [
    "#For zeros\n",
    "import numpy as np\n",
    "arr = np.zeros((2,3),dtype=np.int8)\n",
    "\n",
    "print(arr)\n",
    "print(arr.shape)\n",
    "\n",
    "# For One\n",
    "\n",
    "arr = np.ones_like((2,3),dtype=np.int8)\n",
    "\n",
    "print(arr)\n",
    "print(arr.shape)\n",
    "\n",
    "# Empty \n",
    "\n",
    "arr = np.empty((4,3),dtype=np.int8)\n",
    "print(arr)\n",
    "print(type(arr))\n",
    "print(arr.shape)\n",
    "print(arr.dtype)\n",
    "print(arr.ndim)\n",
    "print(arr.size)\n"
   ]
  },
  {
   "cell_type": "markdown",
   "id": "2d230f3e-1866-4d7f-9d70-429a1839be75",
   "metadata": {},
   "source": [
    "#### Array Creation With Random Values "
   ]
  },
  {
   "cell_type": "code",
   "execution_count": 21,
   "id": "e621cd43-758e-4310-8c00-7f383b848859",
   "metadata": {},
   "outputs": [
    {
     "name": "stdout",
     "output_type": "stream",
     "text": [
      "[[0.10516209 0.67938564 0.36937773]\n",
      " [0.93867087 0.08782175 0.49471285]]\n",
      "<class 'numpy.ndarray'>\n",
      "(2, 3)\n",
      "float64\n",
      "2\n",
      "6\n"
     ]
    }
   ],
   "source": [
    "arr = np.random.rand(2,3)\n",
    "print(arr)\n",
    "print(type(arr))\n",
    "print(arr.shape)\n",
    "print(arr.dtype)\n",
    "print(arr.ndim)\n",
    "print(arr.size)"
   ]
  },
  {
   "cell_type": "markdown",
   "id": "9200812c-3fe7-438f-8a0d-d11d84a14bec",
   "metadata": {},
   "source": [
    "#### Array Creation With Range Functions"
   ]
  },
  {
   "cell_type": "code",
   "execution_count": 31,
   "id": "7d9e21c4-e009-438e-b4c8-0c5f22568b6b",
   "metadata": {},
   "outputs": [
    {
     "name": "stdout",
     "output_type": "stream",
     "text": [
      "[1 2 3 4 5 6 7 8 9]\n",
      "<class 'numpy.ndarray'>\n",
      "(9,)\n",
      "int64\n",
      "1\n",
      "9\n"
     ]
    }
   ],
   "source": [
    "# Scrial Number\n",
    "arr = np.arange(1 , 10 , 1)\n",
    "print(arr)\n",
    "print(type(arr))\n",
    "print(arr.shape)\n",
    "print(arr.dtype)\n",
    "print(arr.ndim)\n",
    "print(arr.size)"
   ]
  },
  {
   "cell_type": "code",
   "execution_count": 25,
   "id": "e4d0bbda-73b7-497b-979f-058993037c31",
   "metadata": {},
   "outputs": [
    {
     "name": "stdout",
     "output_type": "stream",
     "text": [
      "[1 2 3 4 5 6 7 8 9]\n",
      "[[1 2 3]\n",
      " [4 5 6]\n",
      " [7 8 9]]\n",
      "<class 'numpy.ndarray'>\n",
      "(9,)\n",
      "int64\n",
      "1\n",
      "9\n"
     ]
    }
   ],
   "source": [
    "# For Matrix\n",
    "arr = np.arange(1 , 10 , 1)\n",
    "mat = arr.reshape(3,3)\n",
    "print(arr)\n",
    "print(mat)\n",
    "print(type(arr))\n",
    "print(arr.shape)\n",
    "print(arr.dtype)\n",
    "print(arr.ndim)\n",
    "print(arr.size)\n"
   ]
  },
  {
   "cell_type": "code",
   "execution_count": 33,
   "id": "33c935e4-8056-4192-b705-8f30509d6b06",
   "metadata": {},
   "outputs": [
    {
     "name": "stdout",
     "output_type": "stream",
     "text": [
      "[ 1.  2.  3.  4.  5.  6.  7.  8.  9. 10.]\n",
      "<class 'numpy.ndarray'>\n",
      "(10,)\n",
      "float64\n",
      "1\n",
      "10\n"
     ]
    }
   ],
   "source": [
    "# Lin Space \n",
    "arr = np.linspace(1 , 10 , 10)\n",
    "print(arr)\n",
    "print(type(arr))\n",
    "print(arr.shape)\n",
    "print(arr.dtype)\n",
    "print(arr.ndim)\n",
    "print(arr.size)"
   ]
  },
  {
   "cell_type": "code",
   "execution_count": 34,
   "id": "a74eb274-a5a0-4725-ae43-90bb46f0d322",
   "metadata": {},
   "outputs": [
    {
     "name": "stdout",
     "output_type": "stream",
     "text": [
      "[1.00000000e+00 6.30957344e+00 3.98107171e+01 2.51188643e+02\n",
      " 1.58489319e+03 1.00000000e+04]\n"
     ]
    }
   ],
   "source": [
    "# Log Space\n",
    "arr = np.logspace(0, 4 , 6)\n",
    "print(arr)\n"
   ]
  },
  {
   "cell_type": "markdown",
   "id": "459b1b84-716a-4cf4-a9f9-97ef85a2cc21",
   "metadata": {},
   "source": [
    "#### Matrix For Linear Algebra"
   ]
  },
  {
   "cell_type": "code",
   "execution_count": 4,
   "id": "66443d06-bb3b-4d9e-a80c-17b493dc06e6",
   "metadata": {},
   "outputs": [
    {
     "name": "stdout",
     "output_type": "stream",
     "text": [
      "[[1 0 0 0]\n",
      " [0 2 0 0]\n",
      " [0 0 3 0]\n",
      " [0 0 0 4]]\n",
      "(4, 4)\n"
     ]
    }
   ],
   "source": [
    "import numpy as np\n",
    "diagonal_matrix = np.diag([1,2,3,4])\n",
    "print(diagonal_matrix)\n",
    "print(diagonal_matrix.shape)\n"
   ]
  },
  {
   "cell_type": "code",
   "execution_count": 5,
   "id": "91ea09aa-4bc5-4f3f-b3c7-5d90383f4a71",
   "metadata": {},
   "outputs": [
    {
     "name": "stdout",
     "output_type": "stream",
     "text": [
      "[[1. 0. 0. 0.]\n",
      " [0. 1. 0. 0.]\n",
      " [0. 0. 1. 0.]\n",
      " [0. 0. 0. 1.]]\n",
      "(4, 4)\n"
     ]
    }
   ],
   "source": [
    "# identy matrix\n",
    "import numpy as np\n",
    "identity_mat = np.eye(4)\n",
    "print(identity_mat)\n",
    "print(identity_mat.shape)"
   ]
  },
  {
   "cell_type": "markdown",
   "id": "40b86d2f-c107-4522-9f3c-20e00c8c0d1d",
   "metadata": {},
   "source": [
    "  ### Stastitical Functions"
   ]
  },
  {
   "cell_type": "code",
   "execution_count": 8,
   "id": "a201340d-88e4-4bf2-a857-ea6aeaced0aa",
   "metadata": {},
   "outputs": [
    {
     "name": "stdout",
     "output_type": "stream",
     "text": [
      "[[101.  85.  90.  75.]\n",
      " [102.  78.  80.  88.]\n",
      " [103.  92.  85.  79.]\n",
      " [104.  88.  82.  95.]\n",
      " [105.  76.  70.  83.]]\n"
     ]
    }
   ],
   "source": [
    "# Load Data\n",
    "import numpy as np\n",
    "\n",
    "data = np.genfromtxt('students_marksheet.csv', delimiter=',', skip_header=1)\n",
    "print(data)\n"
   ]
  },
  {
   "cell_type": "code",
   "execution_count": 10,
   "id": "4fe79b6c-1902-43e6-97a9-6aaea37e7459",
   "metadata": {},
   "outputs": [
    {
     "name": "stdout",
     "output_type": "stream",
     "text": [
      "[85. 78. 92. 88. 76.]\n"
     ]
    }
   ],
   "source": [
    "# Sliceing\n",
    "math_marks = data[::,1]\n",
    "print (math_marks.T)"
   ]
  },
  {
   "cell_type": "code",
   "execution_count": 12,
   "id": "2e8255c9-b72a-43c4-a27a-8b1adbcacc9c",
   "metadata": {},
   "outputs": [
    {
     "name": "stdout",
     "output_type": "stream",
     "text": [
      "Hight Mark: 92.0\n"
     ]
    }
   ],
   "source": [
    "# Max Number\n",
    "max_math_marks = np.max(math_marks)\n",
    "print(\"Hight Mark:\" , max_math_marks)"
   ]
  },
  {
   "cell_type": "code",
   "execution_count": 16,
   "id": "d458ff71-ab8f-4f97-9af2-2ae83801d230",
   "metadata": {},
   "outputs": [
    {
     "name": "stdout",
     "output_type": "stream",
     "text": [
      "Lowest Marks: 76.0\n"
     ]
    }
   ],
   "source": [
    "# Minimum Number\n",
    "min_math_marks = np.min(math_marks)\n",
    "print(\"Lowest Marks:\" , min_math_marks)"
   ]
  },
  {
   "cell_type": "code",
   "execution_count": 18,
   "id": "dddf7b71-0033-4121-b4fa-7142980a9b2c",
   "metadata": {},
   "outputs": [
    {
     "name": "stdout",
     "output_type": "stream",
     "text": [
      "Average Marks: 83.8\n"
     ]
    }
   ],
   "source": [
    "# Average Number\n",
    "average_math_marks = np.mean(math_marks)\n",
    "print(\"Average Marks:\" , average_math_marks)"
   ]
  },
  {
   "cell_type": "code",
   "execution_count": 19,
   "id": "7eef3fe5-aad9-4aa1-ac42-eb130829c0d3",
   "metadata": {},
   "outputs": [
    {
     "name": "stdout",
     "output_type": "stream",
     "text": [
      "Median Mrks: 85.0\n"
     ]
    }
   ],
   "source": [
    "# Middle Number \n",
    "median_math_marks = np.median(math_marks)\n",
    "print(\"Median Mrks:\" , median_math_marks)"
   ]
  },
  {
   "cell_type": "code",
   "execution_count": 20,
   "id": "ba83da66-8853-4248-8d78-c35471e71b37",
   "metadata": {},
   "outputs": [
    {
     "name": "stdout",
     "output_type": "stream",
     "text": [
      "Standerd Deviation: 6.013318551349164\n"
     ]
    }
   ],
   "source": [
    "# Standerd Deviation\n",
    "std_math_marks = np.std(math_marks)\n",
    "print(\"Standerd Deviation:\" , std_math_marks)"
   ]
  },
  {
   "cell_type": "code",
   "execution_count": null,
   "id": "a41511b4-774f-477d-942b-cd59fdf3983e",
   "metadata": {},
   "outputs": [],
   "source": []
  }
 ],
 "metadata": {
  "kernelspec": {
   "display_name": "Python 3 (ipykernel)",
   "language": "python",
   "name": "python3"
  },
  "language_info": {
   "codemirror_mode": {
    "name": "ipython",
    "version": 3
   },
   "file_extension": ".py",
   "mimetype": "text/x-python",
   "name": "python",
   "nbconvert_exporter": "python",
   "pygments_lexer": "ipython3",
   "version": "3.13.5"
  }
 },
 "nbformat": 4,
 "nbformat_minor": 5
}
